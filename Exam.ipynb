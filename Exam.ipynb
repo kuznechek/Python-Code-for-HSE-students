{
  "nbformat": 4,
  "nbformat_minor": 0,
  "metadata": {
    "colab": {
      "name": "Exam.ipynb",
      "provenance": [],
      "authorship_tag": "ABX9TyPU+zPR4IJfTnOtY5Va/mvs",
      "include_colab_link": true
    },
    "kernelspec": {
      "name": "python3",
      "display_name": "Python 3"
    }
  },
  "cells": [
    {
      "cell_type": "markdown",
      "metadata": {
        "id": "view-in-github",
        "colab_type": "text"
      },
      "source": [
        "<a href=\"https://colab.research.google.com/github/kuznechek/Python-Code-for-HSE-students/blob/main/Exam.ipynb\" target=\"_parent\"><img src=\"https://colab.research.google.com/assets/colab-badge.svg\" alt=\"Open In Colab\"/></a>"
      ]
    },
    {
      "cell_type": "markdown",
      "metadata": {
        "id": "_NhqQLbXymNc"
      },
      "source": [
        "Задача 21"
      ]
    },
    {
      "cell_type": "code",
      "metadata": {
        "id": "N487_KW4yhdY"
      },
      "source": [
        "count = 0\r\n",
        "for i in range(12):\r\n",
        "  a = int(input())\r\n",
        "  if a > 20000:\r\n",
        "    count += 1\r\n",
        "print(count)"
      ],
      "execution_count": null,
      "outputs": []
    },
    {
      "cell_type": "markdown",
      "metadata": {
        "id": "9X0GQyRnzb4J"
      },
      "source": [
        "Задача 22"
      ]
    },
    {
      "cell_type": "code",
      "metadata": {
        "id": "O1-p0C4JzbPR"
      },
      "source": [
        "def checker(password):\r\n",
        "  #1\r\n",
        "  if len(password) < 6 or len(password) > 20:\r\n",
        "    return False\r\n",
        "  # 2\r\n",
        "  digits = '0123456789'\r\n",
        "  count = 0\r\n",
        "  for k in password:\r\n",
        "    if k in digits:\r\n",
        "      count += 1\r\n",
        "  if count == 0:\r\n",
        "    return False\r\n",
        "  #3\r\n",
        "  if '?' not in password and '#' not in password and '%' not in password:\r\n",
        "    return False\r\n",
        "  return True"
      ],
      "execution_count": null,
      "outputs": []
    },
    {
      "cell_type": "markdown",
      "metadata": {
        "id": "8H3GYra12clL"
      },
      "source": [
        "Задача 23"
      ]
    },
    {
      "cell_type": "code",
      "metadata": {
        "id": "hDbZhHTv2eCg"
      },
      "source": [
        "file = open('numbers.txt', encoding='utf-8')\r\n",
        "numbers = file.readlines()\r\n",
        "count_max = 0\r\n",
        "for k in numbers:\r\n",
        "    c = numbers.count(k)\r\n",
        "    if c > count_max:\r\n",
        "        count_max = c\r\n",
        "s = set()\r\n",
        "for k in numbers:\r\n",
        "    if numbers.count(k) == count_max:\r\n",
        "        s.add(k)\r\n",
        "for k in s:\r\n",
        "    print(k)\r\n",
        "file.close()"
      ],
      "execution_count": null,
      "outputs": []
    }
  ]
}