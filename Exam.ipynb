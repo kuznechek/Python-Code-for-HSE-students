{
  "nbformat": 4,
  "nbformat_minor": 0,
  "metadata": {
    "colab": {
      "name": "Exam.ipynb",
      "provenance": [],
      "collapsed_sections": [],
      "authorship_tag": "ABX9TyMM250lSZx8pszONH4WITFT",
      "include_colab_link": true
    },
    "kernelspec": {
      "name": "python3",
      "display_name": "Python 3"
    }
  },
  "cells": [
    {
      "cell_type": "markdown",
      "metadata": {
        "id": "view-in-github",
        "colab_type": "text"
      },
      "source": [
        "<a href=\"https://colab.research.google.com/github/kuznechek/Python-Code-for-HSE-students/blob/main/Exam.ipynb\" target=\"_parent\"><img src=\"https://colab.research.google.com/assets/colab-badge.svg\" alt=\"Open In Colab\"/></a>"
      ]
    },
    {
      "cell_type": "markdown",
      "metadata": {
        "id": "_NhqQLbXymNc"
      },
      "source": [
        "Задача 21"
      ]
    },
    {
      "cell_type": "code",
      "metadata": {
        "id": "N487_KW4yhdY"
      },
      "source": [
        "count = 0\r\n",
        "for i in range(12):\r\n",
        "  a = int(input())\r\n",
        "  if a > 20000:\r\n",
        "    count += 1\r\n",
        "print(count)"
      ],
      "execution_count": null,
      "outputs": []
    },
    {
      "cell_type": "markdown",
      "metadata": {
        "id": "9X0GQyRnzb4J"
      },
      "source": [
        "Задача 22"
      ]
    },
    {
      "cell_type": "code",
      "metadata": {
        "colab": {
          "base_uri": "https://localhost:8080/"
        },
        "id": "O1-p0C4JzbPR",
        "outputId": "3056fc13-db69-423a-e6e4-94be2a4149a5"
      },
      "source": [
        "def checker(password):\r\n",
        "  #1\r\n",
        "  if len(password) < 6 or len(password) > 20:\r\n",
        "    return False\r\n",
        "  # 2\r\n",
        "  digits = '0123456789'\r\n",
        "  count = 0\r\n",
        "  for k in password:\r\n",
        "    if k in digits:\r\n",
        "      count += 1\r\n",
        "  if count == 0:\r\n",
        "    return False\r\n",
        "  #3\r\n",
        "  if '?' not in password and '#' not in password and '%' not in password:\r\n",
        "    return False\r\n",
        "  return True\r\n",
        "\r\n",
        "parol = input()\r\n",
        "print(checker(parol))"
      ],
      "execution_count": null,
      "outputs": [
        {
          "output_type": "stream",
          "text": [
            "qwerty1%\n",
            "True\n"
          ],
          "name": "stdout"
        }
      ]
    },
    {
      "cell_type": "markdown",
      "metadata": {
        "id": "W5B64_hwteSD"
      },
      "source": [
        "Задача 23"
      ]
    },
    {
      "cell_type": "code",
      "metadata": {
        "id": "VEnUAG58tfnq"
      },
      "source": [
        "file = open('numbers.txt', encoding='utf-8')\r\n",
        "numbers = file.readlines()\r\n",
        "count_max = 0\r\n",
        "for k in numbers:\r\n",
        "    c = numbers.count(k)\r\n",
        "    if c > count_max:\r\n",
        "        count_max = c\r\n",
        "s = set()\r\n",
        "for k in numbers:\r\n",
        "    if numbers.count(k) == count_max:\r\n",
        "        s.add(k)\r\n",
        "for k in s:\r\n",
        "    print(k)\r\n",
        "file.close()"
      ],
      "execution_count": null,
      "outputs": []
    },
    {
      "cell_type": "markdown",
      "metadata": {
        "id": "O1ZmvaKdtSB7"
      },
      "source": [
        "Задача 24"
      ]
    },
    {
      "cell_type": "code",
      "metadata": {
        "id": "Se6KaLZawMtT"
      },
      "source": [
        "import csv\r\n",
        "\r\n",
        "f_input = open('goods.csv', encoding='utf-8')\r\n",
        "rows = csv.reader(f_input)\r\n",
        "count = 0\r\n",
        "for row in rows:\r\n",
        "    if row[1] == 'Цена':\r\n",
        "        continue\r\n",
        "    sum = float(\"\".join(row[1].split())) * int(row[4])\r\n",
        "    if sum > 10000:\r\n",
        "        count += 1\r\n",
        "print(count)\r\n",
        "f_input.close()"
      ],
      "execution_count": null,
      "outputs": []
    }
  ]
}