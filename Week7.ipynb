{
  "nbformat": 4,
  "nbformat_minor": 0,
  "metadata": {
    "colab": {
      "name": "Untitled9.ipynb",
      "provenance": [],
      "authorship_tag": "ABX9TyMLhwP0/G2u9lW24E45BvTJ",
      "include_colab_link": true
    },
    "kernelspec": {
      "name": "python3",
      "display_name": "Python 3"
    }
  },
  "cells": [
    {
      "cell_type": "markdown",
      "metadata": {
        "id": "view-in-github",
        "colab_type": "text"
      },
      "source": [
        "<a href=\"https://colab.research.google.com/github/kuznechek/Python-Code-for-HSE-students/blob/main/Week7.ipynb\" target=\"_parent\"><img src=\"https://colab.research.google.com/assets/colab-badge.svg\" alt=\"Open In Colab\"/></a>"
      ]
    },
    {
      "cell_type": "markdown",
      "metadata": {
        "id": "eaY7mKcBjUCM"
      },
      "source": [
        "Задача 1"
      ]
    },
    {
      "cell_type": "code",
      "metadata": {
        "id": "LqEF_1y9jGg0"
      },
      "source": [
        "def get_calories(joule):\n",
        "    return joule / 4184"
      ],
      "execution_count": null,
      "outputs": []
    },
    {
      "cell_type": "markdown",
      "metadata": {
        "id": "2ZbyfeOTjWd8"
      },
      "source": [
        "Задача 2"
      ]
    },
    {
      "cell_type": "code",
      "metadata": {
        "id": "P1oNt3bLjJHJ"
      },
      "source": [
        "def multiples_50(cash):\n",
        "    if cash % 50 == 0:\n",
        "        return('Банкомат может выдать эту сумму')\n",
        "    else:\n",
        "        return('Банкомат не может выдать эту сумму')"
      ],
      "execution_count": null,
      "outputs": []
    },
    {
      "cell_type": "markdown",
      "metadata": {
        "id": "HSFeHjaojXvk"
      },
      "source": [
        "Задача 3"
      ]
    },
    {
      "cell_type": "code",
      "metadata": {
        "id": "ELoQGNmbcWyT"
      },
      "source": [
        "def replacer(strings):\n",
        "    for i in range(len(strings)):\n",
        "        strings[i] = strings[i].replace('Ё','Е')\n",
        "        strings[i] = strings[i].replace('ё','е')"
      ],
      "execution_count": null,
      "outputs": []
    },
    {
      "cell_type": "markdown",
      "metadata": {
        "id": "6Rts4TYIjZSb"
      },
      "source": [
        "Задача 4"
      ]
    },
    {
      "cell_type": "code",
      "metadata": {
        "id": "JozK6nfpfxZQ"
      },
      "source": [
        "def group_goods(goods):\n",
        "  d = dict()\n",
        "  for item in goods:\n",
        "    item = item.split('; ')\n",
        "    group, good = item[1], item[0]\n",
        "    if group not in d:\n",
        "      d[group] = list()\n",
        "    if group in d:\n",
        "      d[group].append(good)\n",
        "  return d"
      ],
      "execution_count": null,
      "outputs": []
    },
    {
      "cell_type": "markdown",
      "metadata": {
        "id": "Zz662pQ8jbBb"
      },
      "source": [
        "Задача 5"
      ]
    },
    {
      "cell_type": "code",
      "metadata": {
        "id": "LVUyv-SNheXk"
      },
      "source": [
        "def filter_accounts(d, m, n):\n",
        "  res = list()\n",
        "  for k in sorted(d):\n",
        "    if d[k] >= m and d[k] <= n:\n",
        "      res.append(k)\n",
        "  return res"
      ],
      "execution_count": null,
      "outputs": []
    },
    {
      "cell_type": "markdown",
      "metadata": {
        "id": "RtLPfoKwmUEF"
      },
      "source": [
        "Задача 6"
      ]
    },
    {
      "cell_type": "code",
      "metadata": {
        "id": "l682MJTUjFc-"
      },
      "source": [
        "def weather_stat(numbs):\n",
        "  s, min, max = 0, numbs[0], numbs[0]\n",
        "  for k in numbs:\n",
        "    s += k\n",
        "    if k > max:\n",
        "      max = k\n",
        "    if k < min:\n",
        "      min = k\n",
        "  aver = s / len(numbs)\n",
        "  return min, max, aver, abs(max-min)\n"
      ],
      "execution_count": null,
      "outputs": []
    },
    {
      "cell_type": "markdown",
      "metadata": {
        "id": "v7IacYngmWHG"
      },
      "source": [
        "Задача 7"
      ]
    },
    {
      "cell_type": "code",
      "metadata": {
        "id": "hwf-bQJKmXTr"
      },
      "source": [
        ""
      ],
      "execution_count": null,
      "outputs": []
    }
  ]
}