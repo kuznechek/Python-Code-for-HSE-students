{
  "nbformat": 4,
  "nbformat_minor": 0,
  "metadata": {
    "colab": {
      "name": "Week9.ipynb",
      "provenance": [],
      "collapsed_sections": [],
      "authorship_tag": "ABX9TyOSv5bSEMETl2m1yotGKuUX",
      "include_colab_link": true
    },
    "kernelspec": {
      "name": "python3",
      "display_name": "Python 3"
    }
  },
  "cells": [
    {
      "cell_type": "markdown",
      "metadata": {
        "id": "view-in-github",
        "colab_type": "text"
      },
      "source": [
        "<a href=\"https://colab.research.google.com/github/kuznechek/Python-Code-for-HSE-students/blob/main/Week9.ipynb\" target=\"_parent\"><img src=\"https://colab.research.google.com/assets/colab-badge.svg\" alt=\"Open In Colab\"/></a>"
      ]
    },
    {
      "cell_type": "markdown",
      "metadata": {
        "id": "Gz30Z5qP9zlx"
      },
      "source": [
        "Задача 1"
      ]
    },
    {
      "cell_type": "code",
      "metadata": {
        "id": "JJD0PVJS9xsA"
      },
      "source": [
        "file = open('article.txt', encoding='utf-8')\n",
        "a = file.read()\n",
        "letters, words, sentences = 0, 0, 0\n",
        "for i in range(len(a)):       \n",
        "    if a[i] in \", .!?\\n\\0—-)\" and a[i-1] not in \", .!?\\n\\0—-)(\":\n",
        "        words += 1\n",
        "    if a[i] in \".!?\":\n",
        "        sentences += 1\n",
        "    if a[i] == '\\n':\n",
        "        continue\n",
        "    letters += 1    \n",
        "print('Количество символов:', letters)\n",
        "print('Количество слов:', words)\n",
        "print('Количество предложений:', sentences)\n",
        "file.close()"
      ],
      "execution_count": null,
      "outputs": []
    },
    {
      "cell_type": "markdown",
      "metadata": {
        "id": "M7PD4BOYIYrS"
      },
      "source": [
        "Задача 2"
      ]
    },
    {
      "cell_type": "code",
      "metadata": {
        "id": "7fg9pyb5IZ7D"
      },
      "source": [
        "conf = input()\n",
        "date = input()\n",
        "people = input().split(', ')\n",
        "file = open('invitations.txt', 'w+', encoding='utf-8')\n",
        "for i in range(len(people)):\n",
        "    s = 'Добрый день, ' + people[i] + '!\\n' + 'Вы зарегистрировались на конференцию \"' + conf + '\", которая состоится ' + date + '.\\n' + 'Ваш регистрационный номер - ' + str(i+1) + '.\\n'\n",
        "    file.write(s)\n",
        "file.close()"
      ],
      "execution_count": null,
      "outputs": []
    },
    {
      "cell_type": "markdown",
      "metadata": {
        "id": "I77Vk9XBMiAi"
      },
      "source": [
        "Задача 3"
      ]
    },
    {
      "cell_type": "code",
      "metadata": {
        "id": "Xw2rxVjMMjo6"
      },
      "source": [
        "imposter = input()\n",
        "f_input = open('review.txt', encoding='utf-8')\n",
        "a = f_input.read()\n",
        "s = '\"' + imposter + '\"'\n",
        "if imposter in a:\n",
        "    b = a.replace(imposter, s)\n",
        "f_output = open('review_correct.txt', 'w+', encoding='utf-8')\n",
        "f_output.write(b)\n",
        "f_input.close()\n",
        "f_output.close()"
      ],
      "execution_count": null,
      "outputs": []
    },
    {
      "cell_type": "markdown",
      "metadata": {
        "id": "9AaymhWuO3MM"
      },
      "source": [
        "Задача 4"
      ]
    },
    {
      "cell_type": "code",
      "metadata": {
        "id": "2Km_cT98O4zy"
      },
      "source": [
        "f_input = open('tweets.txt', encoding='utf-8')\n",
        "a = f_input.read().split()\n",
        "d, b, s = dict(), dict(), ''\n",
        "for k in a:\n",
        "    if k[0] == '#':\n",
        "        if k not in d:\n",
        "            d[k] = 0\n",
        "        if k in d:\n",
        "            d[k] += 1\n",
        "for k in d:\n",
        "    v = d[k]\n",
        "    b[v] = k\n",
        "for k in sorted(b, reverse = True):\n",
        "    s += 'тег: ' + b[k] + ', упоминаний: ' + str(k) + '\\n'\n",
        "f_output = open('tags.txt', 'w+', encoding='utf-8')\n",
        "f_output.write(s)\n",
        "f_input.close()\n",
        "f_output.close()"
      ],
      "execution_count": null,
      "outputs": []
    },
    {
      "cell_type": "markdown",
      "metadata": {
        "id": "KEMsbO4dWpWD"
      },
      "source": [
        "Задача 5"
      ]
    },
    {
      "cell_type": "code",
      "metadata": {
        "id": "kgUu0B49WrJC"
      },
      "source": [
        "f_input = open('words.txt', encoding='utf-8')\n",
        "b = f_input.readlines()\n",
        "d, dic, s = list(), dict(), ''\n",
        "for k in b:\n",
        "    d.append(k.split('\\n')[0])\n",
        "for k in sorted(d):\n",
        "    if k[0] not in dic:\n",
        "        dic[k[0]] = []\n",
        "    if k[0] in dic:\n",
        "        dic[k[0]].append(k)\n",
        "for k in sorted(dic):\n",
        "    s += k + '\\n' + '\\n'.join(dic[k]) + '\\n'\n",
        "f_output = open('dictionary.txt', 'w+', encoding='utf-8')\n",
        "f_output.write(s)\n",
        "f_input.close()\n",
        "f_output.close()"
      ],
      "execution_count": null,
      "outputs": []
    }
  ]
}