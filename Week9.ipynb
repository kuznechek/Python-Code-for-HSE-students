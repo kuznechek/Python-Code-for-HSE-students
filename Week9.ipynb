{
  "nbformat": 4,
  "nbformat_minor": 0,
  "metadata": {
    "colab": {
      "name": "Week9.ipynb",
      "provenance": [],
      "collapsed_sections": [],
      "authorship_tag": "ABX9TyPTVpohYOiWyj5vRPVvXYUh",
      "include_colab_link": true
    },
    "kernelspec": {
      "name": "python3",
      "display_name": "Python 3"
    }
  },
  "cells": [
    {
      "cell_type": "markdown",
      "metadata": {
        "id": "view-in-github",
        "colab_type": "text"
      },
      "source": [
        "<a href=\"https://colab.research.google.com/github/kuznechek/Python-Code-for-HSE-students/blob/main/Week9.ipynb\" target=\"_parent\"><img src=\"https://colab.research.google.com/assets/colab-badge.svg\" alt=\"Open In Colab\"/></a>"
      ]
    },
    {
      "cell_type": "markdown",
      "metadata": {
        "id": "UzR3jo0_L5UZ"
      },
      "source": [
        "Задача 1"
      ]
    },
    {
      "cell_type": "code",
      "metadata": {
        "colab": {
          "base_uri": "https://localhost:8080/"
        },
        "id": "9PieQPnbLzyN",
        "outputId": "c75e7091-fe16-4cba-851e-b384d61dd965"
      },
      "source": [
        "import requests\r\n",
        "\r\n",
        "url = input()\r\n",
        "f = requests.get(url)\r\n",
        "if f.status_code == 200:\r\n",
        "  print('IT WORKS!')\r\n",
        "else:\r\n",
        "  print('ERROR')"
      ],
      "execution_count": 7,
      "outputs": [
        {
          "output_type": "stream",
          "text": [
            "https://online.hse.ru/python-as-foreign/1/1.html\n",
            "IT WORKS!\n"
          ],
          "name": "stdout"
        }
      ]
    },
    {
      "cell_type": "markdown",
      "metadata": {
        "id": "xhz1C0krbEiu"
      },
      "source": [
        "Задача 2"
      ]
    },
    {
      "cell_type": "code",
      "metadata": {
        "id": "LAE8qKTLRwQi"
      },
      "source": [
        "import requests\r\n",
        "from bs4 import BeautifulSoup\r\n",
        "\r\n",
        "url = input()\r\n",
        "while url != 'конец':\r\n",
        "  f = requests.get(url)\r\n",
        "  if f.status_code == 200:\r\n",
        "    f.encoding = 'UTF-8'\r\n",
        "    soup = BeautifulSoup(f.text, 'lxml')\r\n",
        "    title = soup.find('title').text\r\n",
        "    print('<a href=\"'+url+'\">'+title+'</a>')\r\n",
        "  url = input()"
      ],
      "execution_count": null,
      "outputs": []
    },
    {
      "cell_type": "markdown",
      "metadata": {
        "id": "2GYSJN5EbHco"
      },
      "source": [
        "Задача 3"
      ]
    },
    {
      "cell_type": "code",
      "metadata": {
        "colab": {
          "base_uri": "https://localhost:8080/"
        },
        "id": "qi6Wk-zgbOyU",
        "outputId": "c7e5995a-8613-49f0-cc9f-6823a0eabf50"
      },
      "source": [
        "import requests\r\n",
        "from bs4 import BeautifulSoup\r\n",
        "\r\n",
        "url = input()\r\n",
        "f = requests.get(url)\r\n",
        "if f.status_code == 200:\r\n",
        "  f.encoding = 'UTF-8'\r\n",
        "  soup = BeautifulSoup(f.text, 'lxml')\r\n",
        "  files = soup.find_all('img')\r\n",
        "if files == []:\r\n",
        "  print('NO PICS FOUND')\r\n",
        "else:\r\n",
        "  for k in files:\r\n",
        "    print(k.get('src'))"
      ],
      "execution_count": 13,
      "outputs": [
        {
          "output_type": "stream",
          "text": [
            "1.png\n",
            "1.png\n",
            "2.png\n",
            "3.png\n",
            "4.jpg\n",
            "5.png\n"
          ],
          "name": "stdout"
        }
      ]
    },
    {
      "cell_type": "markdown",
      "metadata": {
        "id": "6_8DpIG9fQCc"
      },
      "source": [
        "Задача 4"
      ]
    },
    {
      "cell_type": "code",
      "metadata": {
        "colab": {
          "base_uri": "https://localhost:8080/"
        },
        "id": "VzPyuTxyfR67",
        "outputId": "e4552562-cadb-4e0b-ef78-27bf78bac0e9"
      },
      "source": [
        "import requests\r\n",
        "from bs4 import BeautifulSoup\r\n",
        "\r\n",
        "url = input()\r\n",
        "f = requests.get(url)\r\n",
        "if f.status_code == 200:\r\n",
        "  f.encoding = 'UTF-8'\r\n",
        "  soup = BeautifulSoup(f.text, 'lxml')\r\n",
        "  files = soup.find_all('td')\r\n",
        "max, prof = int(files[1].text), files[0].text\r\n",
        "for i in range(2, len(files)-1, 2):\r\n",
        "  if int(files[i+1].text) >  max:\r\n",
        "    max, prof = int(files[i+1].text), files[i].text\r\n",
        "\r\n",
        "print(prof + ': ' + str(max) + ' руб.')"
      ],
      "execution_count": 24,
      "outputs": [
        {
          "output_type": "stream",
          "text": [
            "200000 Data Scientist\n",
            "40000 Программист Python\n",
            "140000 Python разработчик (Django)\n",
            "50000 Backend Python / Django разработчик (удаленно)\n",
            "Data Scientist: 200000\n"
          ],
          "name": "stdout"
        }
      ]
    },
    {
      "cell_type": "markdown",
      "metadata": {
        "id": "GLH5yFxohb_j"
      },
      "source": [
        "Задача 5"
      ]
    },
    {
      "cell_type": "code",
      "metadata": {
        "colab": {
          "base_uri": "https://localhost:8080/"
        },
        "id": "Z029r9s_hdnr",
        "outputId": "18b879cf-4675-43e2-aa56-57450a093ba1"
      },
      "source": [
        "import requests\r\n",
        "from bs4 import BeautifulSoup\r\n",
        "\r\n",
        "url = input()\r\n",
        "f = requests.get(url)\r\n",
        "f.encoding = 'UTF-8'\r\n",
        "soup = BeautifulSoup(f.text, 'lxml')\r\n",
        "files = soup.find_all('td')\r\n",
        "d, j = dict(), 0\r\n",
        "for i in range(0, len(files)-1, 2):\r\n",
        "  d[int(files[i+1].text)] = files[i].text\r\n",
        "for k in sorted(d, reverse = True):\r\n",
        "  print(d[k])\r\n",
        "  j += 1\r\n",
        "  if j == 3:\r\n",
        "    break"
      ],
      "execution_count": 37,
      "outputs": [
        {
          "output_type": "stream",
          "text": [
            "https://online.hse.ru/python-as-foreign/tasks/music/nautilus.html\n",
            "Золотое пятно\n",
            "Матерь Богов\n",
            "Эта Музыка Будет Вечной\n"
          ],
          "name": "stdout"
        }
      ]
    }
  ]
}