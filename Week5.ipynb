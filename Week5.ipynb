{
  "nbformat": 4,
  "nbformat_minor": 0,
  "metadata": {
    "colab": {
      "name": "Week_5 Liza.ipynb",
      "provenance": [],
      "collapsed_sections": [],
      "authorship_tag": "ABX9TyNa/3GnIm8/Cx/VfgQvQsPg",
      "include_colab_link": true
    },
    "kernelspec": {
      "name": "python3",
      "display_name": "Python 3"
    }
  },
  "cells": [
    {
      "cell_type": "markdown",
      "metadata": {
        "id": "view-in-github",
        "colab_type": "text"
      },
      "source": [
        "<a href=\"https://colab.research.google.com/github/kuznechek/Python-Code-for-HSE-students/blob/main/Week5.ipynb\" target=\"_parent\"><img src=\"https://colab.research.google.com/assets/colab-badge.svg\" alt=\"Open In Colab\"/></a>"
      ]
    },
    {
      "cell_type": "markdown",
      "metadata": {
        "id": "uxm1aCIQbhAW"
      },
      "source": [
        "Задача 1"
      ]
    },
    {
      "cell_type": "code",
      "metadata": {
        "id": "W2ADMYPTazkk"
      },
      "source": [
        "a = input().split(', ') # все продукты\n",
        "b = input() # буква, с которой начинаются нужные\n",
        "c = int(input()) # длина нужного слова\n",
        "dieta = list()\n",
        "for v in a:\n",
        "  if v[0] == b and len(v) == c:\n",
        "    dieta.append(v)\n",
        "if dieta == []:\n",
        "  print('Нужно идти в магазин.')\n",
        "else:\n",
        "  s = \"\"\n",
        "  for i in range(len(dieta)):\n",
        "    if i == len(dieta) - 1:\n",
        "      s = s + dieta[i] + '.'\n",
        "    else:\n",
        "      s = s + dieta[i] + ', '\n",
        "  print('Сегодня Петя может съесть на ужин следующие продукты: ' + s)"
      ],
      "execution_count": null,
      "outputs": []
    },
    {
      "cell_type": "markdown",
      "metadata": {
        "id": "Tkw_NHRuiJzh"
      },
      "source": [
        "Задача 2"
      ]
    },
    {
      "cell_type": "code",
      "metadata": {
        "id": "KPhyHcksjamn"
      },
      "source": [
        "a = input().split(', ')\n",
        "dic = dict() #{'Ключ': 'Значение'}\n",
        "while a[0] != 'Конец':\n",
        "  s = a[0] + ' (материал - ' + a[2] + ')'\n",
        "  if a[1] in dic.keys():\n",
        "    dic[a[1]] = dic[a[1]] + ', ' + s\n",
        "  else:\n",
        "    dic[a[1]] = s\n",
        "  a = input().split(', ')\n",
        "year = input()\n",
        "#print(dic)\n",
        "if year in dic.keys():\n",
        "  print('В ' + year + ' году волшебную палочку купили: ' + dic[year] + '.')\n",
        "else:\n",
        "  print('В этот год никто не покупал волшебные палочки.')"
      ],
      "execution_count": null,
      "outputs": []
    },
    {
      "cell_type": "markdown",
      "metadata": {
        "id": "38LmY4buqz5-"
      },
      "source": [
        "Задача 3"
      ]
    },
    {
      "cell_type": "code",
      "metadata": {
        "id": "ciQD-ACeq1yK"
      },
      "source": [
        "a = input().split()\n",
        "dic = dict()\n",
        "while a[0] != 'КОНЕЦ':\n",
        "  if a[0] in dic.keys():\n",
        "    dic[a[0]] = dic[a[0]] + int(a[1])\n",
        "  else:\n",
        "    dic[a[0]] = int(a[1])\n",
        "  a = input().split()\n",
        "max = 0\n",
        "for k,v in dic.items():\n",
        "  if max == 0:\n",
        "    max = v\n",
        "    winner = k\n",
        "  else:\n",
        "    if max > v:\n",
        "      print(winner)\n",
        "    elif max < v:\n",
        "      print(k)\n",
        "    else:\n",
        "      print('Ничья')\n"
      ],
      "execution_count": null,
      "outputs": []
    },
    {
      "cell_type": "markdown",
      "metadata": {
        "id": "hyrByLCXvg4F"
      },
      "source": [
        "Задача 4"
      ]
    },
    {
      "cell_type": "code",
      "metadata": {
        "id": "0B2QfmTOvivO"
      },
      "source": [
        "a = list()\n",
        "b = input().split(', ')\n",
        "a = a + b\n",
        "c = input().split(', ')\n",
        "a = a + c\n",
        "d = input().split(', ')\n",
        "a = a + d\n",
        "kolvo = 0\n",
        "for u in b:\n",
        "  if a.count(u) == 3:\n",
        "    kolvo = kolvo + 1\n",
        "print(kolvo)"
      ],
      "execution_count": null,
      "outputs": []
    },
    {
      "cell_type": "markdown",
      "metadata": {
        "id": "PKL2sSqSzMrX"
      },
      "source": [
        "Задача 5"
      ]
    },
    {
      "cell_type": "code",
      "metadata": {
        "id": "PhU6cCGTzO3Z",
        "outputId": "fd7886f3-858d-459e-ea24-15fef249c860",
        "colab": {
          "base_uri": "https://localhost:8080/"
        }
      },
      "source": [
        "a = input()\n",
        "b = input()\n",
        "flag = True\n",
        "for i in range(len(b)):\n",
        "  if b[i] not in a:\n",
        "    flag = False\n",
        "if flag == True:\n",
        "  print('ДА')\n",
        "else:\n",
        "  print('НЕТ')"
      ],
      "execution_count": null,
      "outputs": [
        {
          "output_type": "stream",
          "text": [
            "метла\n",
            "кома\n",
            "НЕТ\n"
          ],
          "name": "stdout"
        }
      ]
    },
    {
      "cell_type": "markdown",
      "metadata": {
        "id": "Qkk0ocwI1ibk"
      },
      "source": [
        "Задача 6"
      ]
    },
    {
      "cell_type": "code",
      "metadata": {
        "id": "zJ5Q579x1j8c"
      },
      "source": [
        "sweets = input().split(', ')\n",
        "toys = input().split(', ')\n",
        "children = input().split(', ')\n",
        "for child in children:\n",
        "  if child in sweets and child in toys:\n",
        "    print(child, 'всё есть')\n",
        "  elif child in sweets and child not in toys:\n",
        "    print(child, 'игрушка')\n",
        "  elif child in toys and child not in sweets:\n",
        "    print(child, 'конфеты')"
      ],
      "execution_count": null,
      "outputs": []
    },
    {
      "cell_type": "markdown",
      "metadata": {
        "id": "-fs-yrwZbIZl"
      },
      "source": [
        "Задача 7"
      ]
    },
    {
      "cell_type": "code",
      "metadata": {
        "id": "3e_JaRhDmorN"
      },
      "source": [
        "a = input()\n",
        "all = set()\n",
        "while a != 'END':\n",
        "  all.add(a)\n",
        "  a = input()\n",
        "spam = set()\n",
        "a = input()\n",
        "while a != 'END':\n",
        "  spam.add(a)\n",
        "  a = input()\n",
        "print(len(all - spam))"
      ],
      "execution_count": null,
      "outputs": []
    },
    {
      "cell_type": "markdown",
      "metadata": {
        "id": "wc0_EDHOosFl"
      },
      "source": [
        "Задача 8"
      ]
    },
    {
      "cell_type": "code",
      "metadata": {
        "id": "-0zIwx2aort2"
      },
      "source": [
        "d = dict()\n",
        "a = input()\n",
        "while a != 'все':\n",
        "  a = a.split()\n",
        "  key = a[0]\n",
        "  value = a[1]\n",
        "  d[key] = value\n",
        "  a = input()\n",
        "word = input()\n",
        "if word in d:\n",
        "  print(d[word])\n",
        "else:\n",
        "  print('Такого слова нет')"
      ],
      "execution_count": null,
      "outputs": []
    },
    {
      "cell_type": "markdown",
      "metadata": {
        "id": "wV8il9SCqN7b"
      },
      "source": [
        "Задача 9"
      ]
    },
    {
      "cell_type": "code",
      "metadata": {
        "id": "nKyZtabKqPL5"
      },
      "source": [
        "books = { 'Сильмариллион': 'Джон Толкин', 'Гарри Поттер и кубок огня': 'Джоан Роулинг', 'Неукротимая планета': 'Гарри Гаррисон', 'Человек без лица': 'Альфред Бестер', \"Алиса в стране чудес\": \"Льюис Кэрролл\", \"Космическая Одиссея\": \"Артур Кларк\", \"Дюна\": \"Фрэнк Герберт\", \"Двадцать тысяч лье под водой\": \"Жюль Верн\", \"Янки из Коннектикута при дворе короля Артура\": \"Марк Твен\", \"Американские боги\": \"Нил Гейман\", \"Хроники Амбера\": \"Роджер Желязны\", \"Хроники Нарнии\": \"Клайв С. Льюис\", \"Война миров\": \"Герберт Уэллс\" } \n",
        "word = input()\n",
        "for key, value in books.items():\n",
        "  if word in key or word in value:\n",
        "    print(value + ': ' + key)"
      ],
      "execution_count": null,
      "outputs": []
    },
    {
      "cell_type": "markdown",
      "metadata": {
        "id": "Mu_sAAaOsNFa"
      },
      "source": [
        "Задача 10"
      ]
    },
    {
      "cell_type": "code",
      "metadata": {
        "id": "5jfGhMnAsiV9"
      },
      "source": [
        "par_name = ['Номер', 'Имя', 'Тип', 'Рост', 'Вес']\n",
        "pokemon = []\n",
        "for i in range(5):\n",
        "  pokemon.append(input())\n",
        "d = dict(zip(par_name,pokemon))\n",
        "print(d)"
      ],
      "execution_count": null,
      "outputs": []
    }
  ]
}