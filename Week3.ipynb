{
  "nbformat": 4,
  "nbformat_minor": 0,
  "metadata": {
    "colab": {
      "name": "Week3_Liza.ipynb",
      "provenance": [],
      "collapsed_sections": [],
      "authorship_tag": "ABX9TyOcWucueNxgYUEuhplzGoVv",
      "include_colab_link": true
    },
    "kernelspec": {
      "name": "python3",
      "display_name": "Python 3"
    }
  },
  "cells": [
    {
      "cell_type": "markdown",
      "metadata": {
        "id": "view-in-github",
        "colab_type": "text"
      },
      "source": [
        "<a href=\"https://colab.research.google.com/github/kuznechek/Python-Code-for-HSE-students/blob/main/Week3.ipynb\" target=\"_parent\"><img src=\"https://colab.research.google.com/assets/colab-badge.svg\" alt=\"Open In Colab\"/></a>"
      ]
    },
    {
      "cell_type": "markdown",
      "metadata": {
        "id": "Z1e0n1ORxbni"
      },
      "source": [
        "Задача 1"
      ]
    },
    {
      "cell_type": "code",
      "metadata": {
        "id": "h8tw1_JZyWyL",
        "outputId": "7bb03178-e303-4753-d4db-5c8a8cfa1d27",
        "colab": {
          "base_uri": "https://localhost:8080/"
        }
      },
      "source": [
        "a = input()\n",
        "b = input()\n",
        "n = int(input())\n",
        "c = a + ' ' + b\n",
        "c = c.split()\n",
        "print(c)\n",
        "if len(c) > n:\n",
        "  print(c[n-1])\n",
        "else:\n",
        "  print('Такого слова нет')"
      ],
      "execution_count": null,
      "outputs": [
        {
          "output_type": "stream",
          "text": [
            "Вася пошёл\n",
            "гулять\n",
            "4\n",
            "['Вася', 'пошёл', 'гулять']\n",
            "Такого слова нет\n"
          ],
          "name": "stdout"
        }
      ]
    },
    {
      "cell_type": "markdown",
      "metadata": {
        "id": "MkNKk6O12FxG"
      },
      "source": [
        "Задача 2"
      ]
    },
    {
      "cell_type": "code",
      "metadata": {
        "id": "Liqj6ZQC21ZD"
      },
      "source": [
        "s = input()         #gggg99ff\n",
        "a = 0\n",
        "d = 0\n",
        "for i in range(len(s)):\n",
        "  if s[i].isdigit() == True:\n",
        "    a = a + 1\n",
        "  elif s[i].isalpha() == True:\n",
        "    d = d + 1\n",
        "print('Количество цифр:', a)\n",
        "print('Количество букв:', d)\n",
        "\n"
      ],
      "execution_count": null,
      "outputs": []
    },
    {
      "cell_type": "markdown",
      "metadata": {
        "id": "cAbPMn165fFE"
      },
      "source": [
        "Задача 3"
      ]
    },
    {
      "cell_type": "code",
      "metadata": {
        "id": "BS_WBubm5h9v"
      },
      "source": [
        "neprav = input()\n",
        "prav = input().split()\n",
        "for i in range(len(prav)):\n",
        "  if prav[i] not in neprav:\n",
        "    print(prav[i])"
      ],
      "execution_count": null,
      "outputs": []
    },
    {
      "cell_type": "markdown",
      "metadata": {
        "id": "n1fn7GJu9BKi"
      },
      "source": [
        "Задача 4"
      ]
    },
    {
      "cell_type": "code",
      "metadata": {
        "id": "_Zx-Kr5G9LJl"
      },
      "source": [
        "a = input().split()\n",
        "for i in range(len(a)):\n",
        "  b = int(a[i])\n",
        "  if b % 2 == 0:\n",
        "    p = b // 2\n",
        "  elif b % 2 != 0:\n",
        "    p = (b+1) // 2\n",
        "  print('Для', b, 'учеников нужно', p, 'парт.')"
      ],
      "execution_count": null,
      "outputs": []
    },
    {
      "cell_type": "markdown",
      "metadata": {
        "id": "fMAPKTIpA0XH"
      },
      "source": [
        "Задача 5"
      ]
    },
    {
      "cell_type": "code",
      "metadata": {
        "id": "hyNkb3KAA8f5"
      },
      "source": [
        "b = 9.124\n",
        "print(b)\n",
        "v = int(b)\n",
        "#print(v)\n",
        "c = float(v)\n",
        "print(c)\n",
        "if b > c:\n",
        "  print('Взять', v+1, 'коробок')\n",
        "if b == c:\n",
        "  print('Взять', v, 'коробок')"
      ],
      "execution_count": null,
      "outputs": []
    },
    {
      "cell_type": "markdown",
      "metadata": {
        "id": "g7N6zWhfEHzy"
      },
      "source": [
        "Задача 6"
      ]
    },
    {
      "cell_type": "code",
      "metadata": {
        "id": "bQIXdZlPEi9A"
      },
      "source": [
        "m = int(input())\n",
        "n = int(input())\n",
        "for i in range(1,n+1):\n",
        "  b = m * i\n",
        "  print(b)"
      ],
      "execution_count": null,
      "outputs": []
    },
    {
      "cell_type": "markdown",
      "metadata": {
        "id": "yMat_oA9HaMg"
      },
      "source": [
        "Задача 7"
      ]
    },
    {
      "cell_type": "code",
      "metadata": {
        "id": "c4nOddmgHpAL",
        "outputId": "bc4910e4-2ec4-4545-9aaf-2e164fad2aaa",
        "colab": {
          "base_uri": "https://localhost:8080/"
        }
      },
      "source": [
        "men = input().split()\n",
        "places = input().split()\n",
        "for i in range(len(places)):\n",
        "  j = int(places[i])\n",
        "  if len(men) < j:\n",
        "    print(j,'место никто не занял')\n",
        "  else:\n",
        "    person = men[j-1]\n",
        "    print(j, 'место занял', person)\n"
      ],
      "execution_count": null,
      "outputs": [
        {
          "output_type": "stream",
          "text": [
            "Чен Ханю Чжоу Уно Цзинь Коляда\n",
            "1 19 6 7\n",
            "1 место занял Чен\n",
            "19 место никто не занял\n",
            "6 место занял Коляда\n",
            "7 место никто не занял\n"
          ],
          "name": "stdout"
        }
      ]
    },
    {
      "cell_type": "markdown",
      "metadata": {
        "id": "wYdITB5DMc9f"
      },
      "source": [
        "Задача 8"
      ]
    },
    {
      "cell_type": "code",
      "metadata": {
        "id": "st-l8zNQMfsh",
        "outputId": "dc36f964-3395-4f7d-c2d7-40a356755f6c",
        "colab": {
          "base_uri": "https://localhost:8080/"
        }
      },
      "source": [
        "names = input().split()\n",
        "food = input().split()\n",
        "for i in range(len(names)):\n",
        "  print(names[i], 'любит', food[i])"
      ],
      "execution_count": null,
      "outputs": [
        {
          "output_type": "stream",
          "text": [
            "Аня Маня Филя\n",
            "поститься авокадо тыкву\n",
            "Аня любит поститься\n",
            "Маня любит авокадо\n",
            "Филя любит тыкву\n"
          ],
          "name": "stdout"
        }
      ]
    },
    {
      "cell_type": "markdown",
      "metadata": {
        "id": "urprRa-PNQqt"
      },
      "source": [
        "Задача 9"
      ]
    },
    {
      "cell_type": "code",
      "metadata": {
        "id": "Y6xBkcPMNrZ9"
      },
      "source": [
        "a = input().split()\n",
        "s = ''\n",
        "for i in range(len(a)):\n",
        "  if a[i].isdigit() == True:\n",
        "    s = s + '+' + a[i] + ' '\n",
        "  if a[i].isalpha() == True:\n",
        "    s = s + a[i] + '@gmail.com '\n",
        "print(s)\n"
      ],
      "execution_count": null,
      "outputs": []
    },
    {
      "cell_type": "markdown",
      "metadata": {
        "id": "uR6mXlyPS2eW"
      },
      "source": [
        "Задача 10"
      ]
    },
    {
      "cell_type": "code",
      "metadata": {
        "id": "ChWrlrFwS5oU"
      },
      "source": [
        "a = input().split()\n",
        "for i in range(len(a)):\n",
        "  b = int(a[i])\n",
        "  flag = True\n",
        "  for j in range(2,b):\n",
        "    if b % j == 0:\n",
        "      flag = False\n",
        "      break\n",
        "  if flag == True:\n",
        "    print(b)"
      ],
      "execution_count": null,
      "outputs": []
    }
  ]
}