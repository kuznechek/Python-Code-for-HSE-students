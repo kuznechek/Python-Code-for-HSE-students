{
  "nbformat": 4,
  "nbformat_minor": 0,
  "metadata": {
    "colab": {
      "name": "Week6.ipynb",
      "provenance": [],
      "collapsed_sections": [],
      "authorship_tag": "ABX9TyN2WOX/e7S4pgHwoG/OIIaA",
      "include_colab_link": true
    },
    "kernelspec": {
      "name": "python3",
      "display_name": "Python 3"
    }
  },
  "cells": [
    {
      "cell_type": "markdown",
      "metadata": {
        "id": "view-in-github",
        "colab_type": "text"
      },
      "source": [
        "<a href=\"https://colab.research.google.com/github/kuznechek/Python-Code-for-HSE-students/blob/main/Week6.ipynb\" target=\"_parent\"><img src=\"https://colab.research.google.com/assets/colab-badge.svg\" alt=\"Open In Colab\"/></a>"
      ]
    },
    {
      "cell_type": "markdown",
      "metadata": {
        "id": "jDjStTSS72p6"
      },
      "source": [
        "Задача 1"
      ]
    },
    {
      "cell_type": "code",
      "metadata": {
        "id": "UIQMDGyt3mYh"
      },
      "source": [
        "a = input().split()\n",
        "b,c = list(), list()\n",
        "for k in a:\n",
        "  b.append(float(k))\n",
        "a = sorted(b, reverse=True)\n",
        "for k in a:\n",
        "  c.append(str(k))\n",
        "print(\" \".join(c))"
      ],
      "execution_count": null,
      "outputs": []
    },
    {
      "cell_type": "markdown",
      "metadata": {
        "id": "wVzSBmkr75m4"
      },
      "source": [
        "Задача 2"
      ]
    },
    {
      "cell_type": "code",
      "metadata": {
        "id": "G8W5xqzR6hhZ"
      },
      "source": [
        "a = input().split(';')\n",
        "b = sorted(a,key=str.lower)\n",
        "print(\";\".join(b))"
      ],
      "execution_count": null,
      "outputs": []
    },
    {
      "cell_type": "markdown",
      "metadata": {
        "id": "jMVx3Led77DI"
      },
      "source": [
        "Задача 3"
      ]
    },
    {
      "cell_type": "code",
      "metadata": {
        "id": "kQOSlOk879cf"
      },
      "source": [
        "d = dict()\n",
        "a = input().split('; ')\n",
        "while a[0] != 'конец':\n",
        "  d[a[1]] = a[0]\n",
        "  a = input().split('; ')\n",
        "for k in sorted(d.keys()): \n",
        "  print(d[k])"
      ],
      "execution_count": null,
      "outputs": []
    },
    {
      "cell_type": "markdown",
      "metadata": {
        "id": "zdGljSSA_GPM"
      },
      "source": [
        "Задача 4"
      ]
    },
    {
      "cell_type": "code",
      "metadata": {
        "id": "fcKvFbk__JqC"
      },
      "source": [
        "n = int(input())  \n",
        "a = list()\n",
        "for i in range(n):\n",
        "  b = input().split(', ')\n",
        "  a.append(b)\n",
        "hour = int(input())\n",
        "for i in range(n):\n",
        "  day = a[i]\n",
        "  print(day[hour])"
      ],
      "execution_count": null,
      "outputs": []
    },
    {
      "cell_type": "markdown",
      "metadata": {
        "id": "ymQR9RINAUnk"
      },
      "source": [
        "Задача 5"
      ]
    },
    {
      "cell_type": "code",
      "metadata": {
        "id": "ozGGNIi_AW7w"
      },
      "source": [
        "d = dict()\n",
        "a = input().split(': ')\n",
        "while len(a) > 1:\n",
        "  name, album = a[0], a[1]\n",
        "  if name not in d:\n",
        "    d[name] = [album]\n",
        "  else:\n",
        "    d[name].append(album)\n",
        "  a = input().split(': ')\n",
        "\n",
        "name = a[0]\n",
        "s = \"\"\n",
        "if name in d:\n",
        "  s = s + name + ' (' + str(len(d[name])) + '): '\n",
        "  s  = s + \", \".join(sorted(d[name])) + '.'\n",
        "  print(s)"
      ],
      "execution_count": null,
      "outputs": []
    },
    {
      "cell_type": "markdown",
      "metadata": {
        "id": "_Zqb27mvHJrr"
      },
      "source": [
        "Задача 6"
      ]
    },
    {
      "cell_type": "code",
      "metadata": {
        "id": "4NnoFvlDHLDb"
      },
      "source": [
        "a = input().split('; ')\n",
        "res = list()\n",
        "ball = int(input())\n",
        "for k in a:\n",
        "  k = k.split(', ')\n",
        "  name, r = k[0], k[1]\n",
        "  if int(r) >= ball:\n",
        "    res.append(name)\n",
        "print(\", \".join(res))"
      ],
      "execution_count": null,
      "outputs": []
    },
    {
      "cell_type": "markdown",
      "metadata": {
        "id": "eRviGboEpqV6"
      },
      "source": [
        "Задача 7"
      ]
    },
    {
      "cell_type": "code",
      "metadata": {
        "id": "rkmcCnXvpsTA"
      },
      "source": [
        "d = dict()\n",
        "a = input().split(': ')\n",
        "while a[0] != 'конец':\n",
        "  blogger, follower = a[0], a[1]\n",
        "  if blogger not in d:\n",
        "    d[blogger] = set()\n",
        "  if blogger in d:\n",
        "    d[blogger].add(follower)\n",
        "  a = input().split(': ')\n",
        "for key in sorted(d.keys()):\n",
        "  print('У', key[0:len(key)-1]+'и', len(d[key]), 'уникальных комментатора.')"
      ],
      "execution_count": null,
      "outputs": []
    },
    {
      "cell_type": "markdown",
      "metadata": {
        "id": "UGdxX9EFsseZ"
      },
      "source": [
        "Задача 8"
      ]
    },
    {
      "cell_type": "code",
      "metadata": {
        "id": "UdLpHWo7suDA"
      },
      "source": [
        "d = dict()\n",
        "a = input().split('; ')\n",
        "while a[0] != 'конец':\n",
        "  name, cost = int(a[1]), a[0]\n",
        "  d[name] = cost\n",
        "  a = input().split('; ')\n",
        "for k in sorted(d.keys(), reverse=True):\n",
        "  print(d[k])"
      ],
      "execution_count": null,
      "outputs": []
    },
    {
      "cell_type": "markdown",
      "metadata": {
        "id": "STkQ-E1A3QAe"
      },
      "source": [
        "Задача 9"
      ]
    },
    {
      "cell_type": "code",
      "metadata": {
        "id": "RrrUFf-t3Rkg"
      },
      "source": [
        "d = dict()\n",
        "n = int(input())\n",
        "for i in range(n):\n",
        "  a = input()\n",
        "  if a not in d:\n",
        "    d[a] = 1\n",
        "  else:\n",
        "    d[a] = d[a] + 1\n",
        "max, min = 0, 100\n",
        "for k,v in d.items():\n",
        "  if v > max:\n",
        "    max, maxer = v, k\n",
        "  if v < min:\n",
        "    min, minor = v, k\n",
        "print(maxer+':', max)\n",
        "print(minor+':', min)"
      ],
      "execution_count": null,
      "outputs": []
    },
    {
      "cell_type": "markdown",
      "metadata": {
        "id": "89SU0KLgClyx"
      },
      "source": [
        "Задача 10"
      ]
    },
    {
      "cell_type": "code",
      "metadata": {
        "id": "V9o_Kle9Cn8I"
      },
      "source": [
        "d = dict()\n",
        "a = input().split(', ')\n",
        "while a[0] != 'конец':\n",
        "  name, r = a[0], int(a[1])\n",
        "  if name not in d:\n",
        "    d[name] = [r]\n",
        "  else:\n",
        "    d[name].append(r)\n",
        "  a = input().split(', ')\n",
        "for k in d:\n",
        "  mark = 0\n",
        "  for m in d[k]:\n",
        "    mark = mark + m\n",
        "  d[k].append(mark / len(d[k]))\n",
        "max = 0\n",
        "for k,v in d.items():\n",
        "  n = len(v) - 1\n",
        "  if v[n] > max:\n",
        "    max, maxer = v[n], k\n",
        "max = str(max)\n",
        "s = []\n",
        "for i in range(len(d[maxer])-1):\n",
        "  s.append(str(d[maxer][i]))\n",
        "print(maxer+', '+max+': '+ ', '.join(s) +'.')"
      ],
      "execution_count": null,
      "outputs": []
    }
  ]
}