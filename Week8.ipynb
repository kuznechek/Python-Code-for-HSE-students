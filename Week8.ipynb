{
  "nbformat": 4,
  "nbformat_minor": 0,
  "metadata": {
    "colab": {
      "name": "Week8.ipynb",
      "provenance": [],
      "collapsed_sections": [],
      "authorship_tag": "ABX9TyPolUX8Sx5Urv1Rlv+E9c+8",
      "include_colab_link": true
    },
    "kernelspec": {
      "name": "python3",
      "display_name": "Python 3"
    }
  },
  "cells": [
    {
      "cell_type": "markdown",
      "metadata": {
        "id": "view-in-github",
        "colab_type": "text"
      },
      "source": [
        "<a href=\"https://colab.research.google.com/github/kuznechek/Python-Code-for-HSE-students/blob/main/Week8.ipynb\" target=\"_parent\"><img src=\"https://colab.research.google.com/assets/colab-badge.svg\" alt=\"Open In Colab\"/></a>"
      ]
    },
    {
      "cell_type": "markdown",
      "metadata": {
        "id": "Gz30Z5qP9zlx"
      },
      "source": [
        "Задача 1"
      ]
    },
    {
      "cell_type": "code",
      "metadata": {
        "id": "JJD0PVJS9xsA"
      },
      "source": [
        "file = open('article.txt', encoding='utf-8')\n",
        "a = file.read()\n",
        "letters, words, sentences = 0, 0, 0\n",
        "for i in range(len(a)):       \n",
        "    if a[i] in \", .!?\\n\\0—-)\" and a[i-1] not in \", .!?\\n\\0—-)(\":\n",
        "        words += 1\n",
        "    if a[i] in \".!?\":\n",
        "        sentences += 1\n",
        "    if a[i] == '\\n':\n",
        "        continue\n",
        "    letters += 1    \n",
        "print('Количество символов:', letters)\n",
        "print('Количество слов:', words)\n",
        "print('Количество предложений:', sentences)\n",
        "file.close()"
      ],
      "execution_count": null,
      "outputs": []
    },
    {
      "cell_type": "markdown",
      "metadata": {
        "id": "M7PD4BOYIYrS"
      },
      "source": [
        "Задача 2"
      ]
    },
    {
      "cell_type": "code",
      "metadata": {
        "id": "7fg9pyb5IZ7D"
      },
      "source": [
        "conf = input()\n",
        "date = input()\n",
        "people = input().split(', ')\n",
        "file = open('invitations.txt', 'w+', encoding='utf-8')\n",
        "for i in range(len(people)):\n",
        "    s = 'Добрый день, ' + people[i] + '!\\n' + 'Вы зарегистрировались на конференцию \"' + conf + '\", которая состоится ' + date + '.\\n' + 'Ваш регистрационный номер - ' + str(i+1) + '.\\n'\n",
        "    file.write(s)\n",
        "file.close()"
      ],
      "execution_count": null,
      "outputs": []
    },
    {
      "cell_type": "markdown",
      "metadata": {
        "id": "I77Vk9XBMiAi"
      },
      "source": [
        "Задача 3"
      ]
    },
    {
      "cell_type": "code",
      "metadata": {
        "id": "Xw2rxVjMMjo6"
      },
      "source": [
        "imposter = input()\n",
        "f_input = open('review.txt', encoding='utf-8')\n",
        "a = f_input.read()\n",
        "s = '\"' + imposter + '\"'\n",
        "if imposter in a:\n",
        "    b = a.replace(imposter, s)\n",
        "f_output = open('review_correct.txt', 'w+', encoding='utf-8')\n",
        "f_output.write(b)\n",
        "f_input.close()\n",
        "f_output.close()"
      ],
      "execution_count": null,
      "outputs": []
    },
    {
      "cell_type": "markdown",
      "metadata": {
        "id": "9AaymhWuO3MM"
      },
      "source": [
        "Задача 4"
      ]
    },
    {
      "cell_type": "code",
      "metadata": {
        "id": "2Km_cT98O4zy"
      },
      "source": [
        "f_input = open('tweets.txt', encoding='utf-8')\n",
        "a = f_input.read().split()\n",
        "d, b, s = dict(), dict(), ''\n",
        "for k in a:\n",
        "    if k[0] == '#':\n",
        "        if k not in d:\n",
        "            d[k] = 0\n",
        "        if k in d:\n",
        "            d[k] += 1\n",
        "for k in d:\n",
        "    v = d[k]\n",
        "    b[v] = k\n",
        "for k in sorted(b, reverse = True):\n",
        "    s += 'тег: ' + b[k] + ', упоминаний: ' + str(k) + '\\n'\n",
        "f_output = open('tags.txt', 'w+', encoding='utf-8')\n",
        "f_output.write(s)\n",
        "f_input.close()\n",
        "f_output.close()"
      ],
      "execution_count": null,
      "outputs": []
    },
    {
      "cell_type": "markdown",
      "metadata": {
        "id": "KEMsbO4dWpWD"
      },
      "source": [
        "Задача 5"
      ]
    },
    {
      "cell_type": "code",
      "metadata": {
        "id": "kgUu0B49WrJC"
      },
      "source": [
        "f_input = open('words.txt', encoding='utf-8')\n",
        "b = f_input.readlines()\n",
        "d, dic, s = list(), dict(), ''\n",
        "for k in b:\n",
        "    d.append(k.split('\\n')[0])\n",
        "for k in sorted(d):\n",
        "    if k[0] not in dic:\n",
        "        dic[k[0]] = []\n",
        "    if k[0] in dic:\n",
        "        dic[k[0]].append(k)\n",
        "for k in sorted(dic):\n",
        "    s += k + '\\n' + '\\n'.join(dic[k]) + '\\n'\n",
        "f_output = open('dictionary.txt', 'w+', encoding='utf-8')\n",
        "f_output.write(s)\n",
        "f_input.close()\n",
        "f_output.close()"
      ],
      "execution_count": null,
      "outputs": []
    },
    {
      "cell_type": "markdown",
      "metadata": {
        "id": "nnJtS5lofuAA"
      },
      "source": [
        "Задача 6"
      ]
    },
    {
      "cell_type": "code",
      "metadata": {
        "id": "RvpY6RR-fvcx"
      },
      "source": [
        "import csv\r\n",
        "price = int(input())\r\n",
        "f_input = open('goods.csv', encoding='utf-8')\r\n",
        "f_output = open('filtered-goods.csv', 'w+', encoding='utf-8')\r\n",
        "rows = csv.reader(f_input)\r\n",
        "rows_new = csv.writer(f_output, delimiter = ' ')\r\n",
        "for row in rows:\r\n",
        "        k = row[0].split(';')\r\n",
        "        if int(k[len(k)-1]) <= price:\r\n",
        "                rows_new.writerow(\";\".join(k).split())\r\n",
        "f_input.close()\r\n",
        "f_output.close()"
      ],
      "execution_count": null,
      "outputs": []
    },
    {
      "cell_type": "markdown",
      "metadata": {
        "id": "mSH7IhP5fvwQ"
      },
      "source": [
        "Задача 7"
      ]
    },
    {
      "cell_type": "code",
      "metadata": {
        "id": "sw59ejcUfwv_"
      },
      "source": [
        "import csv\r\n",
        "f_input = open('students.csv', encoding='utf-8')\r\n",
        "rows = csv.reader(f_input)\r\n",
        "s = ''\r\n",
        "for row in rows:\r\n",
        "        k = row[0].split(';')\r\n",
        "        s += 'To: ' + k[1] + '\\n'\r\n",
        "        s += 'Добрый день, ' + k[0] + '!\\n'\r\n",
        "        mark = round(int(k[2]) * 0.4 + int(k[3]) * 0.6)\r\n",
        "        s += 'Ваша итоговая оценка за курс - ' + str(mark) + '.\\n'\r\n",
        "        if mark > 3:\r\n",
        "                s += 'Хороших каникул!\\n'\r\n",
        "        else:\r\n",
        "                s += 'Пересдача состоится 15 января в 10:00, место будет сообщено позднее.\\n'\r\n",
        "f_output = open('emails.txt', 'w+', encoding='utf-8')\r\n",
        "f_output.write(s)\r\n",
        "f_input.close()\r\n",
        "f_output.close()"
      ],
      "execution_count": null,
      "outputs": []
    },
    {
      "cell_type": "markdown",
      "metadata": {
        "id": "9M7TaKI9pWpS"
      },
      "source": [
        "Задача 8"
      ]
    },
    {
      "cell_type": "code",
      "metadata": {
        "id": "elPfa42ApYLa"
      },
      "source": [
        "import csv\r\n",
        "f_input = open('coffee-statistics.csv', encoding='utf-8')\r\n",
        "rows = csv.reader(f_input)\r\n",
        "money = 0\r\n",
        "for row in rows:\r\n",
        "        k = row[0].split(';')\r\n",
        "        if k[0] == 'раф':\r\n",
        "                price = 80\r\n",
        "        else:\r\n",
        "                price = 60\r\n",
        "        if k[1] == 'средний':\r\n",
        "                price *= 2\r\n",
        "        elif k[1] == 'большой':\r\n",
        "                price *= 3\r\n",
        "        money += price\r\n",
        "f_input.close()\r\n",
        "print(money)"
      ],
      "execution_count": null,
      "outputs": []
    },
    {
      "cell_type": "markdown",
      "metadata": {
        "id": "ZbAca-HgtaBr"
      },
      "source": [
        "Задача 9"
      ]
    },
    {
      "cell_type": "code",
      "metadata": {
        "id": "RhDkGbAjwYV1"
      },
      "source": [
        "import csv\r\n",
        "f_input = open('coffee-statistics-2.csv', encoding='utf-8')\r\n",
        "rows = csv.reader(f_input)\r\n",
        "f_output = open('syrups-statistics.csv', 'w+', encoding='utf-8')\r\n",
        "rows_new = csv.writer(f_output, delimiter = ' ')\r\n",
        "coffe, dic = input(), dict()\r\n",
        "for row in rows:\r\n",
        "        k = row[0].split(';')\r\n",
        "        if k[0] == coffe and k[2] != '':\r\n",
        "                if k[2] not in dic:\r\n",
        "                        dic[k[2]] = 0\r\n",
        "                if k[1] == 'маленький':\r\n",
        "                        dic[k[2]] += 10\r\n",
        "                elif k[1] == 'средний':\r\n",
        "                        dic[k[2]] += 20\r\n",
        "                elif k[1] == 'большой':\r\n",
        "                        dic[k[2]] += 30\r\n",
        "for k in sorted(dic):\r\n",
        "        m = k + ';' + str(dic[k])\r\n",
        "        rows_new.writerow(m.split())\r\n",
        "f_input.close()\r\n",
        "f_output.close()"
      ],
      "execution_count": null,
      "outputs": []
    },
    {
      "cell_type": "markdown",
      "metadata": {
        "id": "03idKwWJtcdE"
      },
      "source": [
        "Задача 10"
      ]
    },
    {
      "cell_type": "code",
      "metadata": {
        "id": "OPDCDC9Ftd89"
      },
      "source": [
        "import csv\r\n",
        "prices = open('price-list.csv', encoding='utf-8')\r\n",
        "f_input = open('coffee-statistics-3.csv', encoding='utf-8')\r\n",
        "f_output = open('sale-statistics.csv', 'w+', encoding='utf-8')\r\n",
        "rows = csv.reader(prices)\r\n",
        "pricelist, sales = dict(), dict()\r\n",
        "for row in rows:\r\n",
        "        k = row[0].split(';')\r\n",
        "        pricelist[k[0]] = [k[1], k[2], k[3]]\r\n",
        "rows = csv.reader(f_input)\r\n",
        "for row in rows:\r\n",
        "        k = row[0].split(';')\r\n",
        "        if k[0] not in sales:\r\n",
        "                sales[k[0]] = 0\r\n",
        "        if k[1] == 'маленький':\r\n",
        "                sales[k[0]] += int(pricelist[k[0]][0])\r\n",
        "        elif k[1] == 'средний':\r\n",
        "                sales[k[0]] += int(pricelist[k[0]][1])\r\n",
        "        elif k[1] == 'большой':\r\n",
        "                sales[k[0]] += int(pricelist[k[0]][2])\r\n",
        "rows_new = csv.writer(f_output, delimiter = ' ')\r\n",
        "for k in sorted(sales):\r\n",
        "        m = k + ';' + str(sales[k])\r\n",
        "        rows_new.writerow(m.split())\r\n",
        "f_input.close()\r\n",
        "f_output.close()\r\n",
        "prices.close()"
      ],
      "execution_count": null,
      "outputs": []
    }
  ]
}