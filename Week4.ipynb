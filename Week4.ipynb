{
  "nbformat": 4,
  "nbformat_minor": 0,
  "metadata": {
    "colab": {
      "name": "Week4_Liza.ipynb",
      "provenance": [],
      "collapsed_sections": [],
      "authorship_tag": "ABX9TyNa7CZcWToV83UUd9YwGQ2L",
      "include_colab_link": true
    },
    "kernelspec": {
      "name": "python3",
      "display_name": "Python 3"
    }
  },
  "cells": [
    {
      "cell_type": "markdown",
      "metadata": {
        "id": "view-in-github",
        "colab_type": "text"
      },
      "source": [
        "<a href=\"https://colab.research.google.com/github/kuznechek/Python-Code-for-HSE-students/blob/main/Week4.ipynb\" target=\"_parent\"><img src=\"https://colab.research.google.com/assets/colab-badge.svg\" alt=\"Open In Colab\"/></a>"
      ]
    },
    {
      "cell_type": "markdown",
      "metadata": {
        "id": "Y2H11T6F_zFm"
      },
      "source": [
        "Задача 1"
      ]
    },
    {
      "cell_type": "code",
      "metadata": {
        "id": "hpvdAxYH_yIy"
      },
      "source": [
        "n = int(input())\n",
        "b = 0\n",
        "for i in range(n):\n",
        "  a = input()\n",
        "  if '@' in a:\n",
        "    b = b + 1\n",
        "print(b)"
      ],
      "execution_count": null,
      "outputs": []
    },
    {
      "cell_type": "markdown",
      "metadata": {
        "id": "YoYkUQtFBLUD"
      },
      "source": [
        "Задача 2"
      ]
    },
    {
      "cell_type": "code",
      "metadata": {
        "id": "ieS8E9VuBteR"
      },
      "source": [
        "n = int(input())\n",
        "s = 0\n",
        "for i in range(n):\n",
        "  a = input().split()\n",
        "  b = int(a[0])\n",
        "  s = s + b\n",
        "  #s += int(input().split()[0])\n",
        "print(s/n)"
      ],
      "execution_count": null,
      "outputs": []
    },
    {
      "cell_type": "markdown",
      "metadata": {
        "id": "9XlhnkvNEHQs"
      },
      "source": [
        "Задача 3"
      ]
    },
    {
      "cell_type": "code",
      "metadata": {
        "id": "IgnZoZxeEJEr"
      },
      "source": [
        "a = input().lower().split()\n",
        "if a[0] == 'зачесть':\n",
        "  print('YES')\n",
        "else:\n",
        "  print('NO')"
      ],
      "execution_count": null,
      "outputs": []
    },
    {
      "cell_type": "markdown",
      "metadata": {
        "id": "mPDm5Kk2gKde"
      },
      "source": [
        "Задача 4"
      ]
    },
    {
      "cell_type": "code",
      "metadata": {
        "id": "fbkltXuFGiwd"
      },
      "source": [
        "n = int(input())\n",
        "for i in range(n):\n",
        "  a = input().split()\n",
        "  l = len(a)\n",
        "  b = 0\n",
        "  for j in range(1,l):\n",
        "    b = b + float(a[j])\n",
        "  print(a[0], b)\n",
        "\n"
      ],
      "execution_count": null,
      "outputs": []
    },
    {
      "cell_type": "markdown",
      "metadata": {
        "id": "IShde9lsaEKE"
      },
      "source": [
        "Задача 5"
      ]
    },
    {
      "cell_type": "code",
      "metadata": {
        "id": "ZGgRjwvJMsFJ",
        "outputId": "92ec3174-f56b-4fd5-bcc8-e76a9a3124d8",
        "colab": {
          "base_uri": "https://localhost:8080/"
        }
      },
      "source": [
        "d = dict()\n",
        "for i in range(5):\n",
        "  a = input().split(', ')\n",
        "  l = len(a)\n",
        "  for j in range(l):\n",
        "    b = a[j] #sportsman\n",
        "    if b not in d:\n",
        "      d[b] = 0\n",
        "  d[a[0]] = d[a[0]] + 5\n",
        "  d[a[1]] = d[a[1]] + 3\n",
        "  d[a[2]] = d[a[2]] + 3\n",
        "  d[a[3]] = d[a[3]] + 1\n",
        "  d[a[4]] = d[a[4]] + 1\n",
        "m = input()\n",
        "if m in d:\n",
        "  print(d[m])\n",
        "else:\n",
        "  print(0)"
      ],
      "execution_count": null,
      "outputs": [
        {
          "output_type": "stream",
          "text": [
            "Петров, Яблочкин, Макаров, Смирнов, Кузнецов\n",
            "Петров, Яблочкин, Макаров, Смирнов, Кузнецов\n",
            "Петров, Яблочкин, Макаров, Смирнов, Кузнецов\n",
            "Петров, Яблочкин, Макаров, Смирнов, Кузнецов\n",
            "Петров, Яблочкин, Макаров, Смирнов, Кузнецов\n",
            "Смирнов\n",
            "5\n"
          ],
          "name": "stdout"
        }
      ]
    },
    {
      "cell_type": "markdown",
      "metadata": {
        "id": "PjZxCbqmS78Z"
      },
      "source": [
        "Задача 6"
      ]
    },
    {
      "cell_type": "code",
      "metadata": {
        "id": "lGW_8DsyS660"
      },
      "source": [
        "a = input().split()\n",
        "b = input().split()\n",
        "m = '' #отличники\n",
        "n = '' #двоечники\n",
        "for i in range(len(a)):\n",
        "  if int(b[i]) < 4:\n",
        "    n = n + a[i] + ' '\n",
        "  else:\n",
        "    m = m + a[i] + ' '\n",
        "print(n)\n",
        "print(m)"
      ],
      "execution_count": null,
      "outputs": []
    },
    {
      "cell_type": "markdown",
      "metadata": {
        "id": "j6c60vHZVHFn"
      },
      "source": [
        "Задача 7"
      ]
    },
    {
      "cell_type": "code",
      "metadata": {
        "id": "s0y_jJbZVGIy",
        "outputId": "44357331-480b-46fe-e3f6-3754f90fe599",
        "colab": {
          "base_uri": "https://localhost:8080/"
        }
      },
      "source": [
        "a = input()\n",
        "b = 0\n",
        "m = 0\n",
        "for i in range(len(a)):\n",
        "  if a[i].isupper() == True:\n",
        "    b = b + 1\n",
        "  elif a[i].islower() == True:\n",
        "    m = m + 1\n",
        "if b > m:\n",
        "  print(a.upper())\n",
        "else:\n",
        "  print(a.lower())"
      ],
      "execution_count": null,
      "outputs": [
        {
          "output_type": "stream",
          "text": [
            "Hello moto\n",
            "hello moto\n"
          ],
          "name": "stdout"
        }
      ]
    },
    {
      "cell_type": "markdown",
      "metadata": {
        "id": "mWC5MaKqf6Rn"
      },
      "source": [
        "Задача 8"
      ]
    },
    {
      "cell_type": "code",
      "metadata": {
        "id": "isaQGQLxXYqo",
        "outputId": "d50bf86e-9835-4859-f49c-2161192d446a",
        "colab": {
          "base_uri": "https://localhost:8080/"
        }
      },
      "source": [
        "a = input().split('; ')\n",
        "s = ''\n",
        "for i in range(len(a)):\n",
        "  b = a[i] # адрес почты\n",
        "  name = b.split('@')[0]\n",
        "  if i == len(a) - 1: #Мы дошли до конца!\n",
        "    name = name + '@pamparam.ru'\n",
        "  else:\n",
        "    name = name + '@pamparam.ru; '\n",
        "  s = s + name\n",
        "print(s)"
      ],
      "execution_count": null,
      "outputs": [
        {
          "output_type": "stream",
          "text": [
            "0-1in.ianv00@gmail.com; 42.petr.petrov@mail.ru; _1990_olg0a@hse.ru\n",
            "0-1in.ianv00@pamparam.ru; 42.petr.petrov@pamparam.ru; _1990_olg0a@pamparam.ru\n"
          ],
          "name": "stdout"
        }
      ]
    },
    {
      "cell_type": "markdown",
      "metadata": {
        "id": "CK0vb8qbZ4ZB"
      },
      "source": [
        "Задача 9"
      ]
    },
    {
      "cell_type": "code",
      "metadata": {
        "id": "csujoH3uZ6by",
        "outputId": "e265cd1a-527c-4440-ebbe-7607f908c09a",
        "colab": {
          "base_uri": "https://localhost:8080/"
        }
      },
      "source": [
        "a = input()\n",
        "s = ''\n",
        "b = a.count('h')\n",
        "c = 0\n",
        "for i in range(len(a)):\n",
        "  if a[i] == 'h':\n",
        "    if c == 0 or c == b-1:\n",
        "      s = s + 'h'\n",
        "    else:\n",
        "      s = s + 'H'\n",
        "    c = c + 1\n",
        "  else:\n",
        "    s = s + a[i]\n",
        "print(s)"
      ],
      "execution_count": null,
      "outputs": [
        {
          "output_type": "stream",
          "text": [
            "hahahahahahhaha\n",
            "haHaHaHaHaHHaha\n"
          ],
          "name": "stdout"
        }
      ]
    },
    {
      "cell_type": "markdown",
      "metadata": {
        "id": "VAoQ3btOd7Bh"
      },
      "source": [
        "Задача 10"
      ]
    },
    {
      "cell_type": "code",
      "metadata": {
        "id": "XieOvgmTd88M",
        "outputId": "f1a03bd6-5d0c-4652-cfba-f5ec88c2561d",
        "colab": {
          "base_uri": "https://localhost:8080/"
        }
      },
      "source": [
        "#a = '4656A, 8777B, 9000C, 8777B'.split(', ')\n",
        "a = input().split(', ')\n",
        "s = ''\n",
        "for i in range(len(a)):\n",
        "  b = a[i][4]\n",
        "  s = s + b\n",
        "c = input()\n",
        "print('Ваш ответ:', s)\n",
        "if s == c:\n",
        "  print('Молодец! Все верно')\n",
        "else:\n",
        "  print('Тест решен неверно, правильный ответ:', c)"
      ],
      "execution_count": null,
      "outputs": [
        {
          "output_type": "stream",
          "text": [
            "4587D, 7896B, 5634C, 7896D\n",
            "ABDF\n",
            "Ваш ответ: DBCD\n",
            "Тест решен неверно, правильный ответ: ABDF\n"
          ],
          "name": "stdout"
        }
      ]
    }
  ]
}