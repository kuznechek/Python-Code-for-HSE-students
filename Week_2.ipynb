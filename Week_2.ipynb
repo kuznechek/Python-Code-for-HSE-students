{
  "nbformat": 4,
  "nbformat_minor": 0,
  "metadata": {
    "colab": {
      "name": "Week 2_ Liza.ipynb",
      "provenance": [],
      "collapsed_sections": [],
      "authorship_tag": "ABX9TyMoEkuBTKH8B1s90aQUbPGQ",
      "include_colab_link": true
    },
    "kernelspec": {
      "name": "python3",
      "display_name": "Python 3"
    }
  },
  "cells": [
    {
      "cell_type": "markdown",
      "metadata": {
        "id": "view-in-github",
        "colab_type": "text"
      },
      "source": [
        "<a href=\"https://colab.research.google.com/github/kuznechek/Python-Code-for-HSE-students/blob/main/Week_2.ipynb\" target=\"_parent\"><img src=\"https://colab.research.google.com/assets/colab-badge.svg\" alt=\"Open In Colab\"/></a>"
      ]
    },
    {
      "cell_type": "markdown",
      "metadata": {
        "id": "kwce_w_GkfA6"
      },
      "source": [
        "Задача 1"
      ]
    },
    {
      "cell_type": "code",
      "metadata": {
        "id": "85VtNUmJj7XP"
      },
      "source": [
        "x = int(input())\n",
        "if (x >= 6 and x <= 8) or (x >= 16 and x <= 17):\n",
        "  print(\"True\")\n",
        "else:\n",
        "  print(\"False\")  "
      ],
      "execution_count": null,
      "outputs": []
    },
    {
      "cell_type": "markdown",
      "metadata": {
        "id": "_xtrZTmcqWF0"
      },
      "source": [
        "Задача 2"
      ]
    },
    {
      "cell_type": "code",
      "metadata": {
        "id": "mUSWWCt1nXaV"
      },
      "source": [
        "# 1 день - Вася работает\n",
        "# 2 день - Вася не работает\n",
        "# 3 день - Вася не работает\n",
        "\n",
        "x = int(input())\n",
        "a = x % 3 \n",
        "# a = 0 - 3 день (не работает)\n",
        "# a = 1 - 1 день (работает)\n",
        "# а = 2 - 2 день (не работает)\n",
        "if a == 2 or a == 0:\n",
        "  print(False)\n",
        "else:\n",
        "  print(True)\n",
        "\n"
      ],
      "execution_count": null,
      "outputs": []
    },
    {
      "cell_type": "markdown",
      "metadata": {
        "id": "9scoULlbqYYk"
      },
      "source": [
        "Задача 3"
      ]
    },
    {
      "cell_type": "code",
      "metadata": {
        "id": "vTmWhHr1qZaH"
      },
      "source": [
        "n = int(input())\n",
        "if n == 1:\n",
        "  print('One')"
      ],
      "execution_count": null,
      "outputs": []
    },
    {
      "cell_type": "markdown",
      "metadata": {
        "id": "jv8IHH-Pq_rS"
      },
      "source": [
        "Задача 4"
      ]
    },
    {
      "cell_type": "code",
      "metadata": {
        "id": "olq9H9HCrBnu"
      },
      "source": [
        "a = int(input())\n",
        "b = int(input())\n",
        "if a > b:\n",
        "  print(a)\n",
        "else:\n",
        "  print(b)"
      ],
      "execution_count": null,
      "outputs": []
    },
    {
      "cell_type": "markdown",
      "metadata": {
        "id": "Bdw2BfcxrYR7"
      },
      "source": [
        "Задача 5"
      ]
    },
    {
      "cell_type": "code",
      "metadata": {
        "id": "PUFYgpG8raBP"
      },
      "source": [
        "masha = int(input())\n",
        "petya = int(input())\n",
        "if masha > petya:\n",
        "  print('Маша')\n",
        "elif petya > masha:\n",
        "  print('Петя')\n",
        "else:\n",
        "  print('Ничья')"
      ],
      "execution_count": null,
      "outputs": []
    },
    {
      "cell_type": "markdown",
      "metadata": {
        "id": "ZNhvlOZEsYbG"
      },
      "source": [
        "Задача 6"
      ]
    },
    {
      "cell_type": "code",
      "metadata": {
        "id": "4DiljldCsbgU"
      },
      "source": [
        "n = int(input())\n",
        "if (n % 4 == 0) and (n % 100 != 0) or (n % 400 ==0):\n",
        "  print('YES')\n",
        "else:\n",
        "  print('NO')"
      ],
      "execution_count": null,
      "outputs": []
    },
    {
      "cell_type": "markdown",
      "metadata": {
        "id": "N0QWapktwCQN"
      },
      "source": [
        "Задача 7"
      ]
    },
    {
      "cell_type": "code",
      "metadata": {
        "id": "zv5GOdWx1REr"
      },
      "source": [
        "n = int(input())\n",
        "b = 1\n",
        "while b**3 <= n**2:\n",
        "  print(b**3)\n",
        "  b += 1"
      ],
      "execution_count": null,
      "outputs": []
    },
    {
      "cell_type": "markdown",
      "metadata": {
        "id": "cIU1XE3e29yN"
      },
      "source": [
        "Задача 8"
      ]
    },
    {
      "cell_type": "code",
      "metadata": {
        "id": "lxK9g43V2_46"
      },
      "source": [
        "n = int(input())\n",
        "max = int(input())\n",
        "for i in range(n-1):\n",
        "  b = int(input())\n",
        "  if b > max:\n",
        "    max = b\n",
        "print(max)"
      ],
      "execution_count": null,
      "outputs": []
    },
    {
      "cell_type": "markdown",
      "metadata": {
        "id": "9ZmWL_ye7ytQ"
      },
      "source": [
        "Задача 9"
      ]
    },
    {
      "cell_type": "code",
      "metadata": {
        "id": "sLPnEv8f70Pz"
      },
      "source": [
        "# 1\n",
        "# 2\n",
        "# 6\n",
        "# 0\n",
        "\n",
        "k = 0\n",
        "\n",
        "elem1 = int(input())\n",
        "while elem1 != 0:\n",
        "  elem2 = int(input())\n",
        "  if elem2 > elem1:\n",
        "    k += 1\n",
        "  elem1 = elem2\n",
        "print(k)"
      ],
      "execution_count": null,
      "outputs": []
    },
    {
      "cell_type": "markdown",
      "metadata": {
        "id": "vlILi5bsBa8K"
      },
      "source": [
        "Задача 10"
      ]
    },
    {
      "cell_type": "code",
      "metadata": {
        "id": "j-nBI3BCBc5o",
        "outputId": "861cf8e0-43c9-4d34-dc38-de7452a632fa",
        "colab": {
          "base_uri": "https://localhost:8080/"
        }
      },
      "source": [
        "n = int(input())\n",
        "b = ''\n",
        "for i in range(1,n+1):\n",
        "  b = b + str(i) + ' '\n",
        "  print(b)"
      ],
      "execution_count": null,
      "outputs": [
        {
          "output_type": "stream",
          "text": [
            "25\n",
            "1 \n",
            "1 2 \n",
            "1 2 3 \n",
            "1 2 3 4 \n",
            "1 2 3 4 5 \n",
            "1 2 3 4 5 6 \n",
            "1 2 3 4 5 6 7 \n",
            "1 2 3 4 5 6 7 8 \n",
            "1 2 3 4 5 6 7 8 9 \n",
            "1 2 3 4 5 6 7 8 9 10 \n",
            "1 2 3 4 5 6 7 8 9 10 11 \n",
            "1 2 3 4 5 6 7 8 9 10 11 12 \n",
            "1 2 3 4 5 6 7 8 9 10 11 12 13 \n",
            "1 2 3 4 5 6 7 8 9 10 11 12 13 14 \n",
            "1 2 3 4 5 6 7 8 9 10 11 12 13 14 15 \n",
            "1 2 3 4 5 6 7 8 9 10 11 12 13 14 15 16 \n",
            "1 2 3 4 5 6 7 8 9 10 11 12 13 14 15 16 17 \n",
            "1 2 3 4 5 6 7 8 9 10 11 12 13 14 15 16 17 18 \n",
            "1 2 3 4 5 6 7 8 9 10 11 12 13 14 15 16 17 18 19 \n",
            "1 2 3 4 5 6 7 8 9 10 11 12 13 14 15 16 17 18 19 20 \n",
            "1 2 3 4 5 6 7 8 9 10 11 12 13 14 15 16 17 18 19 20 21 \n",
            "1 2 3 4 5 6 7 8 9 10 11 12 13 14 15 16 17 18 19 20 21 22 \n",
            "1 2 3 4 5 6 7 8 9 10 11 12 13 14 15 16 17 18 19 20 21 22 23 \n",
            "1 2 3 4 5 6 7 8 9 10 11 12 13 14 15 16 17 18 19 20 21 22 23 24 \n",
            "1 2 3 4 5 6 7 8 9 10 11 12 13 14 15 16 17 18 19 20 21 22 23 24 25 \n"
          ],
          "name": "stdout"
        }
      ]
    }
  ]
}